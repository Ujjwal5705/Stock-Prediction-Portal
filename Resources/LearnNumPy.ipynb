{
 "cells": [
  {
   "cell_type": "code",
   "execution_count": 2,
   "id": "6740c2cb-44ac-4de0-92c4-eff50fcf22da",
   "metadata": {},
   "outputs": [],
   "source": [
    "import numpy as np"
   ]
  },
  {
   "cell_type": "code",
   "execution_count": 3,
   "id": "02a85c8d-bb37-4834-b465-42b59146ef1f",
   "metadata": {},
   "outputs": [
    {
     "data": {
      "text/plain": [
       "'2.3.1'"
      ]
     },
     "execution_count": 3,
     "metadata": {},
     "output_type": "execute_result"
    }
   ],
   "source": [
    "np.__version__"
   ]
  },
  {
   "cell_type": "markdown",
   "id": "d7e88acb-afff-404d-bc0e-a8ee417dc7b5",
   "metadata": {
    "jp-MarkdownHeadingCollapsed": true
   },
   "source": [
    "## Create & Read"
   ]
  },
  {
   "cell_type": "markdown",
   "id": "76368273-78ea-47ce-9f2d-d74d3aa97807",
   "metadata": {},
   "source": [
    "#### 1D Array"
   ]
  },
  {
   "cell_type": "code",
   "execution_count": 4,
   "id": "0bbec39a-f4eb-45ca-9f32-95eb4ad05cb5",
   "metadata": {},
   "outputs": [
    {
     "data": {
      "text/plain": [
       "array([1, 2, 3, 4, 5])"
      ]
     },
     "execution_count": 4,
     "metadata": {},
     "output_type": "execute_result"
    }
   ],
   "source": [
    "arr1 = np.array([1, 2, 3, 4, 5])\n",
    "arr1"
   ]
  },
  {
   "cell_type": "code",
   "execution_count": 5,
   "id": "0037f388-cd66-498b-b8c8-dbdd4f81c46a",
   "metadata": {},
   "outputs": [
    {
     "data": {
      "text/plain": [
       "numpy.ndarray"
      ]
     },
     "execution_count": 5,
     "metadata": {},
     "output_type": "execute_result"
    }
   ],
   "source": [
    "type(arr1)"
   ]
  },
  {
   "cell_type": "code",
   "execution_count": 6,
   "id": "13091ca7-38f6-4ab2-aa29-fbfbe7780e8f",
   "metadata": {},
   "outputs": [
    {
     "data": {
      "text/plain": [
       "(5,)"
      ]
     },
     "execution_count": 6,
     "metadata": {},
     "output_type": "execute_result"
    }
   ],
   "source": [
    "arr1.shape"
   ]
  },
  {
   "cell_type": "code",
   "execution_count": 7,
   "id": "b5949d7a-a6cc-4e3e-90c3-03b4e6991999",
   "metadata": {},
   "outputs": [
    {
     "data": {
      "text/plain": [
       "dtype('int64')"
      ]
     },
     "execution_count": 7,
     "metadata": {},
     "output_type": "execute_result"
    }
   ],
   "source": [
    "arr1.dtype"
   ]
  },
  {
   "cell_type": "code",
   "execution_count": 8,
   "id": "76160e3a-8e87-4a13-b97f-4061b5770c44",
   "metadata": {},
   "outputs": [
    {
     "data": {
      "text/plain": [
       "1"
      ]
     },
     "execution_count": 8,
     "metadata": {},
     "output_type": "execute_result"
    }
   ],
   "source": [
    "arr1.ndim"
   ]
  },
  {
   "cell_type": "code",
   "execution_count": 9,
   "id": "a4438ae6-bb80-44c8-9cd4-19e147e98a75",
   "metadata": {},
   "outputs": [
    {
     "data": {
      "text/plain": [
       "5"
      ]
     },
     "execution_count": 9,
     "metadata": {},
     "output_type": "execute_result"
    }
   ],
   "source": [
    "arr1.size"
   ]
  },
  {
   "cell_type": "markdown",
   "id": "72d7c00a-a3a0-43b4-b720-f8fcbd42681f",
   "metadata": {},
   "source": [
    "#### 2D Array"
   ]
  },
  {
   "cell_type": "code",
   "execution_count": 10,
   "id": "ffa845d6-420e-4429-897f-eb77f443b5b1",
   "metadata": {},
   "outputs": [],
   "source": [
    "arr2 = np.array([[1, 2, 6], [3, 4, 8]])"
   ]
  },
  {
   "cell_type": "code",
   "execution_count": 11,
   "id": "966cc9e8-6d3c-496c-b52a-96fd13aeed4b",
   "metadata": {},
   "outputs": [
    {
     "data": {
      "text/plain": [
       "numpy.ndarray"
      ]
     },
     "execution_count": 11,
     "metadata": {},
     "output_type": "execute_result"
    }
   ],
   "source": [
    "type(arr2)"
   ]
  },
  {
   "cell_type": "code",
   "execution_count": 12,
   "id": "7f6c2c34-38a1-4d52-b3b9-dc646abbdbd6",
   "metadata": {},
   "outputs": [
    {
     "data": {
      "text/plain": [
       "dtype('int64')"
      ]
     },
     "execution_count": 12,
     "metadata": {},
     "output_type": "execute_result"
    }
   ],
   "source": [
    "arr2.dtype"
   ]
  },
  {
   "cell_type": "code",
   "execution_count": 13,
   "id": "fe3a1955-4d74-47b3-aa51-74c04253acd2",
   "metadata": {},
   "outputs": [
    {
     "data": {
      "text/plain": [
       "(2, 3)"
      ]
     },
     "execution_count": 13,
     "metadata": {},
     "output_type": "execute_result"
    }
   ],
   "source": [
    "arr2.shape"
   ]
  },
  {
   "cell_type": "code",
   "execution_count": 14,
   "id": "a1e07361-ee45-4734-91aa-4f60b15320bb",
   "metadata": {},
   "outputs": [
    {
     "data": {
      "text/plain": [
       "2"
      ]
     },
     "execution_count": 14,
     "metadata": {},
     "output_type": "execute_result"
    }
   ],
   "source": [
    "arr2.ndim"
   ]
  },
  {
   "cell_type": "code",
   "execution_count": 15,
   "id": "8794000c-18c5-413f-9647-9d935a9910a3",
   "metadata": {},
   "outputs": [
    {
     "data": {
      "text/plain": [
       "6"
      ]
     },
     "execution_count": 15,
     "metadata": {},
     "output_type": "execute_result"
    }
   ],
   "source": [
    "arr2.size"
   ]
  },
  {
   "cell_type": "markdown",
   "id": "17d21bbe-3fb1-48b5-bf4d-85c2e57ad945",
   "metadata": {},
   "source": [
    "#### 3D Array"
   ]
  },
  {
   "cell_type": "code",
   "execution_count": 16,
   "id": "53d13130-6296-4a53-80a8-c9b43cefddfa",
   "metadata": {},
   "outputs": [
    {
     "data": {
      "text/plain": [
       "array([[[ 1,  2,  3],\n",
       "        [ 4,  5,  6],\n",
       "        [ 7,  8,  9]],\n",
       "\n",
       "       [[10, 11, 12],\n",
       "        [13, 14, 15],\n",
       "        [16, 17, 18]]])"
      ]
     },
     "execution_count": 16,
     "metadata": {},
     "output_type": "execute_result"
    }
   ],
   "source": [
    "arr3 = np.array([[[1, 2, 3], [4, 5, 6], [7, 8, 9]], [[10, 11, 12], [13, 14, 15], [16, 17, 18]]])\n",
    "arr3"
   ]
  },
  {
   "cell_type": "code",
   "execution_count": 17,
   "id": "c63831e2-7cc4-4f97-9ec4-db63f9b04c47",
   "metadata": {},
   "outputs": [
    {
     "data": {
      "text/plain": [
       "numpy.ndarray"
      ]
     },
     "execution_count": 17,
     "metadata": {},
     "output_type": "execute_result"
    }
   ],
   "source": [
    "type(arr3)"
   ]
  },
  {
   "cell_type": "code",
   "execution_count": 18,
   "id": "4fa61c0b-bea7-494d-8cc4-63e65e9c8398",
   "metadata": {},
   "outputs": [
    {
     "data": {
      "text/plain": [
       "dtype('int64')"
      ]
     },
     "execution_count": 18,
     "metadata": {},
     "output_type": "execute_result"
    }
   ],
   "source": [
    "arr3.dtype"
   ]
  },
  {
   "cell_type": "code",
   "execution_count": 19,
   "id": "67a38107-3d6f-49af-8a75-0943e0b17009",
   "metadata": {},
   "outputs": [
    {
     "data": {
      "text/plain": [
       "(2, 3, 3)"
      ]
     },
     "execution_count": 19,
     "metadata": {},
     "output_type": "execute_result"
    }
   ],
   "source": [
    "arr3.shape"
   ]
  },
  {
   "cell_type": "code",
   "execution_count": 20,
   "id": "56c772f1-9424-4476-b8b1-4d0a780dae52",
   "metadata": {},
   "outputs": [
    {
     "data": {
      "text/plain": [
       "18"
      ]
     },
     "execution_count": 20,
     "metadata": {},
     "output_type": "execute_result"
    }
   ],
   "source": [
    "arr3.size"
   ]
  },
  {
   "cell_type": "code",
   "execution_count": 21,
   "id": "b91009d2-2146-40cd-a765-dfb3ee053101",
   "metadata": {},
   "outputs": [
    {
     "data": {
      "text/plain": [
       "3"
      ]
     },
     "execution_count": 21,
     "metadata": {},
     "output_type": "execute_result"
    }
   ],
   "source": [
    "arr3.ndim"
   ]
  },
  {
   "cell_type": "markdown",
   "id": "3bb12d31-17fc-4b42-8aa6-74c0c8d64a34",
   "metadata": {},
   "source": [
    "## Create Random Array"
   ]
  },
  {
   "cell_type": "code",
   "execution_count": 27,
   "id": "5787e274-c844-432f-a611-21ca56002186",
   "metadata": {
    "scrolled": true
   },
   "outputs": [
    {
     "data": {
      "text/plain": [
       "array([[[0.79618598, 0.12485997, 0.85675738],\n",
       "        [0.51111901, 0.34625845, 0.12497461],\n",
       "        [0.89827905, 0.01064402, 0.12407996]],\n",
       "\n",
       "       [[0.92662152, 0.98042499, 0.1242072 ],\n",
       "        [0.21089555, 0.85275269, 0.73372231],\n",
       "        [0.46777324, 0.08291541, 0.55348193]]])"
      ]
     },
     "execution_count": 27,
     "metadata": {},
     "output_type": "execute_result"
    }
   ],
   "source": [
    "randomArr = np.random.rand(2, 3, 3)\n",
    "randomArr"
   ]
  },
  {
   "cell_type": "code",
   "execution_count": 28,
   "id": "baa0a9b8-5e9b-454d-9ccd-b381c3ad30e9",
   "metadata": {},
   "outputs": [
    {
     "data": {
      "text/plain": [
       "dtype('float64')"
      ]
     },
     "execution_count": 28,
     "metadata": {},
     "output_type": "execute_result"
    }
   ],
   "source": [
    "randomArr.dtype"
   ]
  },
  {
   "cell_type": "code",
   "execution_count": 92,
   "id": "6ad8f63a-6608-410e-99c7-c8eaefaca619",
   "metadata": {},
   "outputs": [],
   "source": [
    "zeroes = np.zeros((3, 2, 3))"
   ]
  },
  {
   "cell_type": "code",
   "execution_count": 93,
   "id": "52989cba-7ba4-48c0-886d-96b170ae2d76",
   "metadata": {},
   "outputs": [
    {
     "data": {
      "text/plain": [
       "array([[[0., 0., 0.],\n",
       "        [0., 0., 0.]],\n",
       "\n",
       "       [[0., 0., 0.],\n",
       "        [0., 0., 0.]],\n",
       "\n",
       "       [[0., 0., 0.],\n",
       "        [0., 0., 0.]]])"
      ]
     },
     "execution_count": 93,
     "metadata": {},
     "output_type": "execute_result"
    }
   ],
   "source": [
    "zeroes"
   ]
  },
  {
   "cell_type": "code",
   "execution_count": 94,
   "id": "49f8fbc7-7187-4431-b172-7988c361cd15",
   "metadata": {},
   "outputs": [
    {
     "data": {
      "text/plain": [
       "3"
      ]
     },
     "execution_count": 94,
     "metadata": {},
     "output_type": "execute_result"
    }
   ],
   "source": [
    "zeroes.ndim"
   ]
  },
  {
   "cell_type": "code",
   "execution_count": 95,
   "id": "7d5be143-108c-40df-8670-24f97796f50a",
   "metadata": {},
   "outputs": [],
   "source": [
    "full = np.full((6, 2, 3), 3)"
   ]
  },
  {
   "cell_type": "code",
   "execution_count": 96,
   "id": "2376f380-af43-4249-b887-db86e81338dd",
   "metadata": {},
   "outputs": [
    {
     "data": {
      "text/plain": [
       "array([[[3, 3, 3],\n",
       "        [3, 3, 3]],\n",
       "\n",
       "       [[3, 3, 3],\n",
       "        [3, 3, 3]],\n",
       "\n",
       "       [[3, 3, 3],\n",
       "        [3, 3, 3]],\n",
       "\n",
       "       [[3, 3, 3],\n",
       "        [3, 3, 3]],\n",
       "\n",
       "       [[3, 3, 3],\n",
       "        [3, 3, 3]],\n",
       "\n",
       "       [[3, 3, 3],\n",
       "        [3, 3, 3]]])"
      ]
     },
     "execution_count": 96,
     "metadata": {},
     "output_type": "execute_result"
    }
   ],
   "source": [
    "full"
   ]
  },
  {
   "cell_type": "code",
   "execution_count": 97,
   "id": "15561288-18da-4e4f-8885-ffc1eb1071a1",
   "metadata": {},
   "outputs": [
    {
     "data": {
      "text/plain": [
       "array([3, 3, 3])"
      ]
     },
     "execution_count": 97,
     "metadata": {},
     "output_type": "execute_result"
    }
   ],
   "source": [
    "full[0, 0]"
   ]
  },
  {
   "cell_type": "code",
   "execution_count": 98,
   "id": "cb87613c-72d9-4f5a-8651-af4665ab1fe0",
   "metadata": {},
   "outputs": [
    {
     "data": {
      "text/plain": [
       "array([[3, 3, 3],\n",
       "       [3, 3, 3]])"
      ]
     },
     "execution_count": 98,
     "metadata": {},
     "output_type": "execute_result"
    }
   ],
   "source": [
    "full[2]"
   ]
  },
  {
   "cell_type": "code",
   "execution_count": 99,
   "id": "275013a6-9a64-4050-b475-0afe46582ee2",
   "metadata": {},
   "outputs": [
    {
     "data": {
      "text/plain": [
       "array([[3, 3, 3],\n",
       "       [3, 3, 3]])"
      ]
     },
     "execution_count": 99,
     "metadata": {},
     "output_type": "execute_result"
    }
   ],
   "source": [
    "full[5]"
   ]
  },
  {
   "cell_type": "code",
   "execution_count": 100,
   "id": "30e5a7fd-1b7f-43dd-bf9c-a7bc9f761bbb",
   "metadata": {},
   "outputs": [
    {
     "data": {
      "text/plain": [
       "array([[0.92662152, 0.98042499, 0.1242072 ],\n",
       "       [0.21089555, 0.85275269, 0.73372231],\n",
       "       [0.46777324, 0.08291541, 0.55348193]])"
      ]
     },
     "execution_count": 100,
     "metadata": {},
     "output_type": "execute_result"
    }
   ],
   "source": [
    "randomArr[1]"
   ]
  },
  {
   "cell_type": "code",
   "execution_count": 101,
   "id": "5c3d912b-4bd4-4fe3-a1d1-71cfb93490e3",
   "metadata": {},
   "outputs": [
    {
     "data": {
      "text/plain": [
       "np.float64(0.7337223127548247)"
      ]
     },
     "execution_count": 101,
     "metadata": {},
     "output_type": "execute_result"
    }
   ],
   "source": [
    "randomArr[1, 1, 2]"
   ]
  },
  {
   "cell_type": "code",
   "execution_count": 102,
   "id": "5bfd1bbc-efe4-4085-bfd7-5c2e9007d848",
   "metadata": {},
   "outputs": [
    {
     "data": {
      "text/plain": [
       "array([[[0.79618598, 0.12485997, 0.85675738],\n",
       "        [0.51111901, 0.34625845, 0.12497461],\n",
       "        [0.89827905, 0.01064402, 0.12407996]]])"
      ]
     },
     "execution_count": 102,
     "metadata": {},
     "output_type": "execute_result"
    }
   ],
   "source": [
    "randomArr[0:1]"
   ]
  },
  {
   "cell_type": "code",
   "execution_count": 103,
   "id": "1c3ba41d-71f4-4d02-8e4d-ea7ddcf38616",
   "metadata": {},
   "outputs": [
    {
     "data": {
      "text/plain": [
       "array([[0.92662152, 0.98042499, 0.1242072 ],\n",
       "       [0.21089555, 0.85275269, 0.73372231],\n",
       "       [0.46777324, 0.08291541, 0.55348193]])"
      ]
     },
     "execution_count": 103,
     "metadata": {},
     "output_type": "execute_result"
    }
   ],
   "source": [
    "randomArr[-1]"
   ]
  },
  {
   "cell_type": "markdown",
   "id": "bf9ce6d3-403b-4f18-aeb5-19bd390c81dd",
   "metadata": {},
   "source": [
    "## Update and Delete"
   ]
  },
  {
   "cell_type": "code",
   "execution_count": 104,
   "id": "939c9179-63ce-43ee-b9c8-b861e7f8dd1a",
   "metadata": {},
   "outputs": [],
   "source": [
    "a1 = np.random.rand(2, 3, 2)\n",
    "a2 = np.random.rand(2, 3, 2)"
   ]
  },
  {
   "cell_type": "code",
   "execution_count": 105,
   "id": "690848c3-e0da-42b0-914d-5556df388930",
   "metadata": {},
   "outputs": [
    {
     "data": {
      "text/plain": [
       "array([[[0.91510206, 0.68595991],\n",
       "        [0.3750628 , 0.30303702],\n",
       "        [0.98354914, 0.41517183]],\n",
       "\n",
       "       [[0.42699026, 0.73529815],\n",
       "        [0.31279693, 0.67595259],\n",
       "        [0.18817473, 0.32798496]]])"
      ]
     },
     "execution_count": 105,
     "metadata": {},
     "output_type": "execute_result"
    }
   ],
   "source": [
    "a1"
   ]
  },
  {
   "cell_type": "code",
   "execution_count": 106,
   "id": "0e88bef8-1207-470a-9cce-1088edbbc474",
   "metadata": {},
   "outputs": [
    {
     "data": {
      "text/plain": [
       "array([[[0.54703263, 0.96595929],\n",
       "        [0.3487392 , 0.31996712],\n",
       "        [0.72844713, 0.21446996]],\n",
       "\n",
       "       [[0.61829422, 0.63823822],\n",
       "        [0.79047427, 0.28057501],\n",
       "        [0.04085152, 0.35139706]]])"
      ]
     },
     "execution_count": 106,
     "metadata": {},
     "output_type": "execute_result"
    }
   ],
   "source": [
    "a2"
   ]
  },
  {
   "cell_type": "markdown",
   "id": "49db5f0d-726c-4f7d-ada7-480ff39c5529",
   "metadata": {},
   "source": [
    "#### Basic Math Operations"
   ]
  },
  {
   "cell_type": "code",
   "execution_count": 107,
   "id": "7994743a-43c0-4ed5-8dd0-3ec9e910f662",
   "metadata": {},
   "outputs": [
    {
     "data": {
      "text/plain": [
       "array([[[1.46213469, 1.65191921],\n",
       "        [0.72380199, 0.62300414],\n",
       "        [1.71199627, 0.62964178]],\n",
       "\n",
       "       [[1.04528447, 1.37353637],\n",
       "        [1.1032712 , 0.9565276 ],\n",
       "        [0.22902626, 0.67938202]]])"
      ]
     },
     "execution_count": 107,
     "metadata": {},
     "output_type": "execute_result"
    }
   ],
   "source": [
    "np.add(a1, a2)"
   ]
  },
  {
   "cell_type": "code",
   "execution_count": 108,
   "id": "0ace1b12-5947-4d2f-a782-e90c33202586",
   "metadata": {},
   "outputs": [
    {
     "data": {
      "text/plain": [
       "array([[[ 0.36806943, -0.27999938],\n",
       "        [ 0.0263236 , -0.0169301 ],\n",
       "        [ 0.255102  ,  0.20070187]],\n",
       "\n",
       "       [[-0.19130396,  0.09705993],\n",
       "        [-0.47767734,  0.39537759],\n",
       "        [ 0.14732321, -0.0234121 ]]])"
      ]
     },
     "execution_count": 108,
     "metadata": {},
     "output_type": "execute_result"
    }
   ],
   "source": [
    "np.subtract(a1, a2)"
   ]
  },
  {
   "cell_type": "code",
   "execution_count": 109,
   "id": "21fba5f4-dcd2-410d-815c-55e48344a6f8",
   "metadata": {},
   "outputs": [
    {
     "data": {
      "text/plain": [
       "array([[[1.67284731, 0.71013335],\n",
       "        [1.07548219, 0.94708799],\n",
       "        [1.35019975, 1.93580414]],\n",
       "\n",
       "       [[0.69059397, 1.15207477],\n",
       "        [0.39570792, 2.40916896],\n",
       "        [4.6063089 , 0.93337422]]])"
      ]
     },
     "execution_count": 109,
     "metadata": {},
     "output_type": "execute_result"
    }
   ],
   "source": [
    "np.divide(a1, a2)"
   ]
  },
  {
   "cell_type": "code",
   "execution_count": 110,
   "id": "6d67f44e-4840-485a-8b52-3eaa9d643f2a",
   "metadata": {},
   "outputs": [
    {
     "data": {
      "text/plain": [
       "array([[[0.50059069, 0.66260935],\n",
       "        [0.1307991 , 0.09696188],\n",
       "        [0.71646355, 0.08904188]],\n",
       "\n",
       "       [[0.26400561, 0.46929538],\n",
       "        [0.24725793, 0.1896554 ],\n",
       "        [0.00768722, 0.11525295]]])"
      ]
     },
     "execution_count": 110,
     "metadata": {},
     "output_type": "execute_result"
    }
   ],
   "source": [
    "np.multiply(a1, a2)"
   ]
  },
  {
   "cell_type": "code",
   "execution_count": 111,
   "id": "26111153-e02d-4e85-9ca1-31392d265f70",
   "metadata": {},
   "outputs": [],
   "source": [
    "sqrt = np.sqrt(26)\n",
    "abs = np.abs(-2)\n",
    "power = np.power(2, 8)\n",
    "log = np.log(25)\n",
    "mins = np.min(a1)\n",
    "maxs = np.max(a2)"
   ]
  },
  {
   "cell_type": "code",
   "execution_count": 112,
   "id": "a0348b22-9fbe-458f-b023-ec8094c54048",
   "metadata": {},
   "outputs": [
    {
     "data": {
      "text/plain": [
       "np.float64(5.0990195135927845)"
      ]
     },
     "execution_count": 112,
     "metadata": {},
     "output_type": "execute_result"
    }
   ],
   "source": [
    "sqrt"
   ]
  },
  {
   "cell_type": "code",
   "execution_count": 113,
   "id": "e399d5c2-c5b3-4c27-9090-1d4eaedb5ae5",
   "metadata": {},
   "outputs": [
    {
     "data": {
      "text/plain": [
       "np.int64(2)"
      ]
     },
     "execution_count": 113,
     "metadata": {},
     "output_type": "execute_result"
    }
   ],
   "source": [
    "abs"
   ]
  },
  {
   "cell_type": "code",
   "execution_count": 114,
   "id": "3c0b7352-a3e6-4ae1-9cad-593c98c4005f",
   "metadata": {},
   "outputs": [
    {
     "data": {
      "text/plain": [
       "np.int64(256)"
      ]
     },
     "execution_count": 114,
     "metadata": {},
     "output_type": "execute_result"
    }
   ],
   "source": [
    "power"
   ]
  },
  {
   "cell_type": "code",
   "execution_count": 115,
   "id": "b927e9d9-e808-45ff-9bfa-9f9b277839e3",
   "metadata": {},
   "outputs": [
    {
     "data": {
      "text/plain": [
       "np.float64(3.2188758248682006)"
      ]
     },
     "execution_count": 115,
     "metadata": {},
     "output_type": "execute_result"
    }
   ],
   "source": [
    "log"
   ]
  },
  {
   "cell_type": "code",
   "execution_count": 116,
   "id": "854db327-8e33-43e3-b9cd-917b408da2fb",
   "metadata": {},
   "outputs": [
    {
     "data": {
      "text/plain": [
       "np.float64(0.1881747328212683)"
      ]
     },
     "execution_count": 116,
     "metadata": {},
     "output_type": "execute_result"
    }
   ],
   "source": [
    "mins"
   ]
  },
  {
   "cell_type": "code",
   "execution_count": 117,
   "id": "33070646-c93d-4a07-8bad-5f3ad6aef5e3",
   "metadata": {},
   "outputs": [
    {
     "data": {
      "text/plain": [
       "np.float64(0.9659592948799334)"
      ]
     },
     "execution_count": 117,
     "metadata": {},
     "output_type": "execute_result"
    }
   ],
   "source": [
    "maxs"
   ]
  },
  {
   "cell_type": "markdown",
   "id": "e68bd2ef-cd62-4752-9aff-3d56d666e954",
   "metadata": {},
   "source": [
    "#### Update"
   ]
  },
  {
   "cell_type": "code",
   "execution_count": 118,
   "id": "2650ef5a-5332-4ba1-b4db-9b7a167aa9a4",
   "metadata": {},
   "outputs": [],
   "source": [
    "a3 = np.random.rand(2, 3, 3)"
   ]
  },
  {
   "cell_type": "code",
   "execution_count": 119,
   "id": "f10f3c0f-cb30-488e-9ec0-a23022517628",
   "metadata": {},
   "outputs": [
    {
     "data": {
      "text/plain": [
       "array([[[0.48368136, 0.43331259, 0.83597884],\n",
       "        [0.48794986, 0.41342436, 0.11984859],\n",
       "        [0.98112672, 0.80865811, 0.3645576 ]],\n",
       "\n",
       "       [[0.31709631, 0.87871287, 0.65933685],\n",
       "        [0.05888066, 0.42213612, 0.6927875 ],\n",
       "        [0.02814739, 0.81967425, 0.8608236 ]]])"
      ]
     },
     "execution_count": 119,
     "metadata": {},
     "output_type": "execute_result"
    }
   ],
   "source": [
    "a3"
   ]
  },
  {
   "cell_type": "code",
   "execution_count": 120,
   "id": "e33910ee-99c0-438a-a975-7d85bbea1646",
   "metadata": {},
   "outputs": [],
   "source": [
    "a3[0, 1, 2] = 1"
   ]
  },
  {
   "cell_type": "code",
   "execution_count": 121,
   "id": "60a14d76-ec4e-459d-a514-2bd252a9a14b",
   "metadata": {},
   "outputs": [
    {
     "data": {
      "text/plain": [
       "array([[[0.48368136, 0.43331259, 0.83597884],\n",
       "        [0.48794986, 0.41342436, 1.        ],\n",
       "        [0.98112672, 0.80865811, 0.3645576 ]],\n",
       "\n",
       "       [[0.31709631, 0.87871287, 0.65933685],\n",
       "        [0.05888066, 0.42213612, 0.6927875 ],\n",
       "        [0.02814739, 0.81967425, 0.8608236 ]]])"
      ]
     },
     "execution_count": 121,
     "metadata": {},
     "output_type": "execute_result"
    }
   ],
   "source": [
    "a3"
   ]
  },
  {
   "cell_type": "code",
   "execution_count": 122,
   "id": "4b27514b-1106-44b7-8f98-83c75e61bdee",
   "metadata": {},
   "outputs": [
    {
     "data": {
      "text/plain": [
       "array([[[0.43331259, 0.48368136, 0.83597884],\n",
       "        [0.41342436, 0.48794986, 1.        ],\n",
       "        [0.3645576 , 0.80865811, 0.98112672]],\n",
       "\n",
       "       [[0.31709631, 0.65933685, 0.87871287],\n",
       "        [0.05888066, 0.42213612, 0.6927875 ],\n",
       "        [0.02814739, 0.81967425, 0.8608236 ]]])"
      ]
     },
     "execution_count": 122,
     "metadata": {},
     "output_type": "execute_result"
    }
   ],
   "source": [
    "a3.sort()\n",
    "a3"
   ]
  },
  {
   "cell_type": "code",
   "execution_count": 123,
   "id": "a98e6cc9-ac32-4e18-ac9e-06275b649066",
   "metadata": {},
   "outputs": [
    {
     "data": {
      "text/plain": [
       "array([[[0.43331259, 0.48368136, 0.83597884],\n",
       "        [0.41342436, 0.48794986, 1.        ]],\n",
       "\n",
       "       [[0.3645576 , 0.80865811, 0.98112672],\n",
       "        [0.31709631, 0.65933685, 0.87871287]],\n",
       "\n",
       "       [[0.05888066, 0.42213612, 0.6927875 ],\n",
       "        [0.02814739, 0.81967425, 0.8608236 ]]])"
      ]
     },
     "execution_count": 123,
     "metadata": {},
     "output_type": "execute_result"
    }
   ],
   "source": [
    "a3_reshape = a3.reshape((3, 2, 3))\n",
    "a3_reshape"
   ]
  },
  {
   "cell_type": "markdown",
   "id": "ec07b5c3-c267-4527-913d-bf9bfe49ab4c",
   "metadata": {},
   "source": [
    "### Appending & Inserting"
   ]
  },
  {
   "cell_type": "code",
   "execution_count": 139,
   "id": "ebce7c46-0e3c-46ab-90f9-78ce8184b581",
   "metadata": {},
   "outputs": [
    {
     "data": {
      "text/plain": [
       "array([[[1., 1., 1.],\n",
       "        [1., 1., 1.]],\n",
       "\n",
       "       [[1., 1., 1.],\n",
       "        [1., 1., 1.]],\n",
       "\n",
       "       [[1., 1., 1.],\n",
       "        [1., 1., 1.]]])"
      ]
     },
     "execution_count": 139,
     "metadata": {},
     "output_type": "execute_result"
    }
   ],
   "source": [
    "new_array = np.ones((3, 2, 3))\n",
    "new_array"
   ]
  },
  {
   "cell_type": "code",
   "execution_count": 140,
   "id": "e60ec0bc-6471-4293-8b24-b52cd3b0b4f1",
   "metadata": {},
   "outputs": [
    {
     "data": {
      "text/plain": [
       "array([[[0., 0., 0.],\n",
       "        [0., 0., 0.]],\n",
       "\n",
       "       [[0., 0., 0.],\n",
       "        [0., 0., 0.]],\n",
       "\n",
       "       [[0., 0., 0.],\n",
       "        [0., 0., 0.]]])"
      ]
     },
     "execution_count": 140,
     "metadata": {},
     "output_type": "execute_result"
    }
   ],
   "source": [
    "zeroes"
   ]
  },
  {
   "cell_type": "code",
   "execution_count": 141,
   "id": "000c423a-541a-407d-901c-2213c02bac47",
   "metadata": {},
   "outputs": [
    {
     "data": {
      "text/plain": [
       "array([[[0., 0., 0.],\n",
       "        [0., 0., 0.]],\n",
       "\n",
       "       [[0., 0., 0.],\n",
       "        [0., 0., 0.]],\n",
       "\n",
       "       [[0., 0., 0.],\n",
       "        [0., 0., 0.]],\n",
       "\n",
       "       [[1., 1., 1.],\n",
       "        [1., 1., 1.]],\n",
       "\n",
       "       [[1., 1., 1.],\n",
       "        [1., 1., 1.]],\n",
       "\n",
       "       [[1., 1., 1.],\n",
       "        [1., 1., 1.]]])"
      ]
     },
     "execution_count": 141,
     "metadata": {},
     "output_type": "execute_result"
    }
   ],
   "source": [
    "appd = np.append(zeroes, new_array, axis=0)\n",
    "appd"
   ]
  },
  {
   "cell_type": "code",
   "execution_count": 148,
   "id": "7ecd2749-83de-48b0-a75b-dd0cd84a61fa",
   "metadata": {},
   "outputs": [
    {
     "data": {
      "text/plain": [
       "array([[[0., 0., 0.],\n",
       "        [0., 0., 0.]],\n",
       "\n",
       "       [[1., 1., 1.],\n",
       "        [1., 1., 1.]],\n",
       "\n",
       "       [[1., 1., 1.],\n",
       "        [1., 1., 1.]],\n",
       "\n",
       "       [[1., 1., 1.],\n",
       "        [1., 1., 1.]],\n",
       "\n",
       "       [[0., 0., 0.],\n",
       "        [0., 0., 0.]],\n",
       "\n",
       "       [[0., 0., 0.],\n",
       "        [0., 0., 0.]]])"
      ]
     },
     "execution_count": 148,
     "metadata": {},
     "output_type": "execute_result"
    }
   ],
   "source": [
    "insert_array = np.insert(zeroes, 1, new_array, axis=0)\n",
    "insert_array"
   ]
  },
  {
   "cell_type": "markdown",
   "id": "9283e388-f555-4276-b9f7-8940afc96cbd",
   "metadata": {},
   "source": [
    "#### Delete"
   ]
  },
  {
   "cell_type": "code",
   "execution_count": 169,
   "id": "031880ed-a004-424b-8a4d-132b89d7a0ae",
   "metadata": {},
   "outputs": [],
   "source": [
    "arr4 = np.random.rand(3, 2, 3)"
   ]
  },
  {
   "cell_type": "code",
   "execution_count": 170,
   "id": "42b9bb54-6259-4b31-a6de-1806b66e4143",
   "metadata": {},
   "outputs": [
    {
     "data": {
      "text/plain": [
       "array([[[0.72263361, 0.61034851, 0.16824316],\n",
       "        [0.31044558, 0.75378653, 0.62704066]],\n",
       "\n",
       "       [[0.56552298, 0.78981486, 0.03846256],\n",
       "        [0.82704974, 0.80840083, 0.93695196]],\n",
       "\n",
       "       [[0.70763866, 0.91773018, 0.90054495],\n",
       "        [0.26137738, 0.21660065, 0.19968555]]])"
      ]
     },
     "execution_count": 170,
     "metadata": {},
     "output_type": "execute_result"
    }
   ],
   "source": [
    "arr4"
   ]
  },
  {
   "cell_type": "code",
   "execution_count": 177,
   "id": "88804b32-6ffc-4a91-b0f7-69d7d7e5d6bf",
   "metadata": {},
   "outputs": [],
   "source": [
    "arr5 = np.delete(arr4, 0, axis=1)"
   ]
  },
  {
   "cell_type": "code",
   "execution_count": 180,
   "id": "4c98f985-aae4-4f16-a9a1-5c765b230d80",
   "metadata": {},
   "outputs": [],
   "source": [
    "np.save('new_array', arr5)"
   ]
  },
  {
   "cell_type": "code",
   "execution_count": 183,
   "id": "32b9d4e4-ae1b-4a83-8f56-24498455616f",
   "metadata": {},
   "outputs": [
    {
     "data": {
      "text/plain": [
       "array([[[0.31044558, 0.75378653, 0.62704066]],\n",
       "\n",
       "       [[0.82704974, 0.80840083, 0.93695196]],\n",
       "\n",
       "       [[0.26137738, 0.21660065, 0.19968555]]])"
      ]
     },
     "execution_count": 183,
     "metadata": {},
     "output_type": "execute_result"
    }
   ],
   "source": [
    "np.load('new_array.npy')"
   ]
  },
  {
   "cell_type": "code",
   "execution_count": null,
   "id": "a71183e4-e5ab-4609-9791-7bcde292d6e6",
   "metadata": {},
   "outputs": [],
   "source": []
  }
 ],
 "metadata": {
  "kernelspec": {
   "display_name": "Python 3 (ipykernel)",
   "language": "python",
   "name": "python3"
  },
  "language_info": {
   "codemirror_mode": {
    "name": "ipython",
    "version": 3
   },
   "file_extension": ".py",
   "mimetype": "text/x-python",
   "name": "python",
   "nbconvert_exporter": "python",
   "pygments_lexer": "ipython3",
   "version": "3.13.5"
  }
 },
 "nbformat": 4,
 "nbformat_minor": 5
}
